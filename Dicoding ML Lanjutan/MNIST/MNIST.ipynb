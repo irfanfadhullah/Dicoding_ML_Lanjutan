{
  "nbformat": 4,
  "nbformat_minor": 0,
  "metadata": {
    "colab": {
      "name": "MNIST.ipynb",
      "provenance": []
    },
    "kernelspec": {
      "name": "python3",
      "display_name": "Python 3"
    }
  },
  "cells": [
    {
      "cell_type": "code",
      "metadata": {
        "id": "xT8Csz-DD6SE",
        "colab_type": "code",
        "colab": {
          "base_uri": "https://localhost:8080/",
          "height": 35
        },
        "outputId": "4639c8e1-dd5a-4e3d-df74-0b64be960e69"
      },
      "source": [
        "import tensorflow as tf\n",
        "print(tf.__version__)"
      ],
      "execution_count": 1,
      "outputs": [
        {
          "output_type": "stream",
          "text": [
            "2.3.0\n"
          ],
          "name": "stdout"
        }
      ]
    },
    {
      "cell_type": "code",
      "metadata": {
        "id": "cwEAWuSAEHYF",
        "colab_type": "code",
        "colab": {}
      },
      "source": [
        "mnist = tf.keras.datasets.mnist"
      ],
      "execution_count": 2,
      "outputs": []
    },
    {
      "cell_type": "code",
      "metadata": {
        "id": "QCKqGjMoEPhe",
        "colab_type": "code",
        "colab": {
          "base_uri": "https://localhost:8080/",
          "height": 54
        },
        "outputId": "0a59e3bc-0d4d-49c5-907d-08fc50d256b2"
      },
      "source": [
        "(gambar_latih,label_latih),(gambar_test,label_test) =  mnist.load_data()"
      ],
      "execution_count": 3,
      "outputs": [
        {
          "output_type": "stream",
          "text": [
            "Downloading data from https://storage.googleapis.com/tensorflow/tf-keras-datasets/mnist.npz\n",
            "11493376/11490434 [==============================] - 0s 0us/step\n"
          ],
          "name": "stdout"
        }
      ]
    },
    {
      "cell_type": "code",
      "metadata": {
        "id": "wEr_OnDdEcPr",
        "colab_type": "code",
        "colab": {
          "base_uri": "https://localhost:8080/",
          "height": 283
        },
        "outputId": "01e021f7-b26d-427a-8ea9-097fd76adfc0"
      },
      "source": [
        "import numpy as np\n",
        "np.set_printoptions(linewidth=200)\n",
        "import matplotlib.pyplot as plt\n",
        "plt.imshow(gambar_latih[0])\n",
        "print(label_latih[0])"
      ],
      "execution_count": 4,
      "outputs": [
        {
          "output_type": "stream",
          "text": [
            "5\n"
          ],
          "name": "stdout"
        },
        {
          "output_type": "display_data",
          "data": {
            "image/png": "[encoded data removed]",
            "text/plain": [
              "<Figure size 432x288 with 1 Axes>"
            ]
          },
          "metadata": {
            "tags": [],
            "needs_background": "light"
          }
        }
      ]
    },
    {
      "cell_type": "code",
      "metadata": {
        "id": "jbcRgmWwE2TI",
        "colab_type": "code",
        "colab": {}
      },
      "source": [
        "gambar_latih = gambar_latih/255.0\n",
        "gambar_test = gambar_test/255.0"
      ],
      "execution_count": 6,
      "outputs": []
    },
    {
      "cell_type": "code",
      "metadata": {
        "id": "u-dNToiHEyml",
        "colab_type": "code",
        "colab": {
          "base_uri": "https://localhost:8080/",
          "height": 1000
        },
        "outputId": "befd9a9b-12fb-4ede-8f70-2b7b3aaf3202"
      },
      "source": [
        "model = tf.keras.models.Sequential([\n",
        "                                   tf.keras.layers.Flatten(input_shape=(28,28)),\n",
        "                                   tf.keras.layers.Dense(128, activation=tf.nn.relu),\n",
        "                                   tf.keras.layers.Dense(10,activation=tf.nn.softmax)\n",
        "])\n",
        "\n",
        "model.compile(optimizer=tf.optimizers.Adam(), loss = 'sparse_categorical_crossentropy',metrics=['accuracy'])\n",
        "\n",
        "history = model.fit(gambar_latih,label_latih,epochs=50,batch_size=64)"
      ],
      "execution_count": 12,
      "outputs": [
        {
          "output_type": "stream",
          "text": [
            "Epoch 1/50\n",
            "938/938 [==============================] - 2s 2ms/step - loss: 1.4808 - accuracy: 0.6378\n",
            "Epoch 2/50\n",
            "938/938 [==============================] - 2s 2ms/step - loss: 0.6433 - accuracy: 0.8409\n",
            "Epoch 3/50\n",
            "938/938 [==============================] - 2s 2ms/step - loss: 0.4629 - accuracy: 0.8788\n",
            "Epoch 4/50\n",
            "938/938 [==============================] - 2s 2ms/step - loss: 0.3917 - accuracy: 0.8934\n",
            "Epoch 5/50\n",
            "938/938 [==============================] - 2s 2ms/step - loss: 0.3556 - accuracy: 0.9015\n",
            "Epoch 6/50\n",
            "938/938 [==============================] - 2s 2ms/step - loss: 0.3332 - accuracy: 0.9062\n",
            "Epoch 7/50\n",
            "938/938 [==============================] - 2s 2ms/step - loss: 0.3173 - accuracy: 0.9093\n",
            "Epoch 8/50\n",
            "938/938 [==============================] - 2s 2ms/step - loss: 0.3057 - accuracy: 0.9122\n",
            "Epoch 9/50\n",
            "938/938 [==============================] - 2s 2ms/step - loss: 0.2959 - accuracy: 0.9157\n",
            "Epoch 10/50\n",
            "938/938 [==============================] - 2s 2ms/step - loss: 0.2874 - accuracy: 0.9171\n",
            "Epoch 11/50\n",
            "938/938 [==============================] - 2s 2ms/step - loss: 0.2798 - accuracy: 0.9192\n",
            "Epoch 12/50\n",
            "938/938 [==============================] - 2s 2ms/step - loss: 0.2725 - accuracy: 0.9214\n",
            "Epoch 13/50\n",
            "938/938 [==============================] - 2s 2ms/step - loss: 0.2659 - accuracy: 0.9233\n",
            "Epoch 14/50\n",
            "938/938 [==============================] - 2s 2ms/step - loss: 0.2593 - accuracy: 0.9250\n",
            "Epoch 15/50\n",
            "938/938 [==============================] - 2s 2ms/step - loss: 0.2527 - accuracy: 0.9274\n",
            "Epoch 16/50\n",
            "938/938 [==============================] - 2s 2ms/step - loss: 0.2463 - accuracy: 0.9291\n",
            "Epoch 17/50\n",
            "938/938 [==============================] - 2s 2ms/step - loss: 0.2398 - accuracy: 0.9307\n",
            "Epoch 18/50\n",
            "938/938 [==============================] - 2s 2ms/step - loss: 0.2337 - accuracy: 0.9325\n",
            "Epoch 19/50\n",
            "938/938 [==============================] - 2s 2ms/step - loss: 0.2276 - accuracy: 0.9343\n",
            "Epoch 20/50\n",
            "938/938 [==============================] - 2s 2ms/step - loss: 0.2216 - accuracy: 0.9357\n",
            "Epoch 21/50\n",
            "938/938 [==============================] - 2s 2ms/step - loss: 0.2158 - accuracy: 0.9378\n",
            "Epoch 22/50\n",
            "938/938 [==============================] - 2s 2ms/step - loss: 0.2100 - accuracy: 0.9398\n",
            "Epoch 23/50\n",
            "938/938 [==============================] - 2s 2ms/step - loss: 0.2044 - accuracy: 0.9416\n",
            "Epoch 24/50\n",
            "938/938 [==============================] - 2s 2ms/step - loss: 0.1993 - accuracy: 0.9430\n",
            "Epoch 25/50\n",
            "938/938 [==============================] - 2s 2ms/step - loss: 0.1942 - accuracy: 0.9444\n",
            "Epoch 26/50\n",
            "938/938 [==============================] - 2s 2ms/step - loss: 0.1892 - accuracy: 0.9456\n",
            "Epoch 27/50\n",
            "938/938 [==============================] - 2s 2ms/step - loss: 0.1846 - accuracy: 0.9470\n",
            "Epoch 28/50\n",
            "938/938 [==============================] - 2s 2ms/step - loss: 0.1798 - accuracy: 0.9488\n",
            "Epoch 29/50\n",
            "938/938 [==============================] - 2s 2ms/step - loss: 0.1755 - accuracy: 0.9502\n",
            "Epoch 30/50\n",
            "938/938 [==============================] - 2s 2ms/step - loss: 0.1713 - accuracy: 0.9518\n",
            "Epoch 31/50\n",
            "938/938 [==============================] - 2s 2ms/step - loss: 0.1669 - accuracy: 0.9525\n",
            "Epoch 32/50\n",
            "938/938 [==============================] - 2s 2ms/step - loss: 0.1634 - accuracy: 0.9542\n",
            "Epoch 33/50\n",
            "938/938 [==============================] - 2s 2ms/step - loss: 0.1593 - accuracy: 0.9551\n",
            "Epoch 34/50\n",
            "938/938 [==============================] - 2s 2ms/step - loss: 0.1555 - accuracy: 0.9560\n",
            "Epoch 35/50\n",
            "938/938 [==============================] - 2s 2ms/step - loss: 0.1519 - accuracy: 0.9573\n",
            "Epoch 36/50\n",
            "938/938 [==============================] - 2s 2ms/step - loss: 0.1485 - accuracy: 0.9581\n",
            "Epoch 37/50\n",
            "938/938 [==============================] - 2s 2ms/step - loss: 0.1450 - accuracy: 0.9594\n",
            "Epoch 38/50\n",
            "938/938 [==============================] - 2s 2ms/step - loss: 0.1421 - accuracy: 0.9601\n",
            "Epoch 39/50\n",
            "938/938 [==============================] - 2s 2ms/step - loss: 0.1391 - accuracy: 0.9609\n",
            "Epoch 40/50\n",
            "938/938 [==============================] - 2s 2ms/step - loss: 0.1360 - accuracy: 0.9618\n",
            "Epoch 41/50\n",
            "938/938 [==============================] - 2s 2ms/step - loss: 0.1334 - accuracy: 0.9625\n",
            "Epoch 42/50\n",
            "938/938 [==============================] - 2s 2ms/step - loss: 0.1304 - accuracy: 0.9629\n",
            "Epoch 43/50\n",
            "938/938 [==============================] - 2s 2ms/step - loss: 0.1279 - accuracy: 0.9635\n",
            "Epoch 44/50\n",
            "938/938 [==============================] - 2s 2ms/step - loss: 0.1253 - accuracy: 0.9646\n",
            "Epoch 45/50\n",
            "938/938 [==============================] - 2s 2ms/step - loss: 0.1229 - accuracy: 0.9657\n",
            "Epoch 46/50\n",
            "938/938 [==============================] - 2s 2ms/step - loss: 0.1199 - accuracy: 0.9664\n",
            "Epoch 47/50\n",
            "938/938 [==============================] - 2s 2ms/step - loss: 0.1180 - accuracy: 0.9667\n",
            "Epoch 48/50\n",
            "938/938 [==============================] - 2s 2ms/step - loss: 0.1158 - accuracy: 0.9674\n",
            "Epoch 49/50\n",
            "938/938 [==============================] - 2s 2ms/step - loss: 0.1135 - accuracy: 0.9683\n",
            "Epoch 50/50\n",
            "938/938 [==============================] - 2s 2ms/step - loss: 0.1113 - accuracy: 0.9692\n"
          ],
          "name": "stdout"
        }
      ]
    },
    {
      "cell_type": "code",
      "metadata": {
        "id": "GAKAGLC2FwV9",
        "colab_type": "code",
        "colab": {
          "base_uri": "https://localhost:8080/",
          "height": 295
        },
        "outputId": "09692613-318c-4fff-ed61-0152e9c7a32d"
      },
      "source": [
        "plt.plot(history.history['loss'])\n",
        "plt.title('Model Loss')\n",
        "plt.xlabel('Epoch')\n",
        "plt.ylabel('Loss')\n",
        "plt.legend(['Train'],loc='upper right' )\n",
        "plt.show()"
      ],
      "execution_count": 14,
      "outputs": [
        {
          "output_type": "display_data",
          "data": {
            "image/png": "[encoded data removed]",
            "text/plain": [
              "<Figure size 432x288 with 1 Axes>"
            ]
          },
          "metadata": {
            "tags": [],
            "needs_background": "light"
          }
        }
      ]
    },
    {
      "cell_type": "code",
      "metadata": {
        "id": "vEaZddG2HFo9",
        "colab_type": "code",
        "colab": {
          "base_uri": "https://localhost:8080/",
          "height": 295
        },
        "outputId": "0960759b-ca50-4885-e579-d1eec78dfb5e"
      },
      "source": [
        "plt.plot(history.history['accuracy'])\n",
        "plt.title('Model Accuracy')\n",
        "plt.xlabel('Epoch')\n",
        "plt.ylabel('Accuracy')\n",
        "plt.legend(['Train'],loc='lower right' )\n",
        "plt.show()"
      ],
      "execution_count": 15,
      "outputs": [
        {
          "output_type": "display_data",
          "data": {
            "image/png": "[encoded data removed]",
            "text/plain": [
              "<Figure size 432x288 with 1 Axes>"
            ]
          },
          "metadata": {
            "tags": [],
            "needs_background": "light"
          }
        }
      ]
    },
    {
      "cell_type": "code",
      "metadata": {
        "id": "zl66j8gfHRzW",
        "colab_type": "code",
        "colab": {}
      },
      "source": [
        ""
      ],
      "execution_count": null,
      "outputs": []
    }
  ]
}