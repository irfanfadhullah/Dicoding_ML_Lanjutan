{
  "nbformat": 4,
  "nbformat_minor": 0,
  "metadata": {
    "colab": {
      "name": "With Transfer Learning.ipynb",
      "provenance": []
    },
    "kernelspec": {
      "name": "python3",
      "display_name": "Python 3"
    },
    "accelerator": "GPU"
  },
  "cells": [
    {
      "cell_type": "code",
      "metadata": {
        "id": "UkrV1QGxHLS9",
        "colab_type": "code",
        "colab": {
          "base_uri": "https://localhost:8080/",
          "height": 219
        },
        "outputId": "55112592-4fd5-49cf-f9e4-fd3e040db878"
      },
      "source": [
        "!wget --no-check-certificate \\\n",
        "  https://dicodingacademy.blob.core.windows.net/picodiploma/ml_pengembangan_academy/Chessman-image-dataset.zip \\\n",
        "  -O /tmp/Chessman-image-dataset.zip"
      ],
      "execution_count": 6,
      "outputs": [
        {
          "output_type": "stream",
          "text": [
            "--2020-08-09 13:02:34--  https://dicodingacademy.blob.core.windows.net/picodiploma/ml_pengembangan_academy/Chessman-image-dataset.zip\n",
            "Resolving dicodingacademy.blob.core.windows.net (dicodingacademy.blob.core.windows.net)... 52.239.197.36\n",
            "Connecting to dicodingacademy.blob.core.windows.net (dicodingacademy.blob.core.windows.net)|52.239.197.36|:443... connected.\n",
            "HTTP request sent, awaiting response... 200 OK\n",
            "Length: 60684125 (58M) [application/zip]\n",
            "Saving to: ‘/tmp/Chessman-image-dataset.zip’\n",
            "\n",
            "/tmp/Chessman-image 100%[===================>]  57.87M  5.82MB/s    in 11s     \n",
            "\n",
            "2020-08-09 13:02:46 (5.10 MB/s) - ‘/tmp/Chessman-image-dataset.zip’ saved [60684125/60684125]\n",
            "\n"
          ],
          "name": "stdout"
        }
      ]
    },
    {
      "cell_type": "code",
      "metadata": {
        "id": "rydnt84zL2vD",
        "colab_type": "code",
        "colab": {}
      },
      "source": [
        "import os\n",
        "import zipfile\n",
        "from tensorflow.keras.preprocessing.image import ImageDataGenerator\n",
        "local_zip = \"/tmp/Chessman-image-dataset.zip\"\n",
        "zip_ref = zipfile.ZipFile(local_zip, 'r')\n",
        "zip_ref.extractall('/tmp')\n",
        "zip_ref.close()\n",
        "train_dir = os.path.join('/tmp/Chessman-image-dataset/Chess')\n",
        "train_datagen = ImageDataGenerator(rescale=1./255.0,\n",
        "                                   rotation_range=20,\n",
        "                                   zoom_range=0.2,\n",
        "                                   shear_range=0.2,\n",
        "                                   fill_mode='nearest',\n",
        "                                   validation_split=0.1)"
      ],
      "execution_count": 7,
      "outputs": []
    },
    {
      "cell_type": "code",
      "metadata": {
        "id": "5zvBVjelMmut",
        "colab_type": "code",
        "colab": {
          "base_uri": "https://localhost:8080/",
          "height": 54
        },
        "outputId": "51f32515-461c-4ff3-bc44-a934546d158d"
      },
      "source": [
        "train_generator = train_datagen.flow_from_directory(\n",
        "    train_dir,\n",
        "    target_size=(150,150),\n",
        "    batch_size=8,\n",
        "    class_mode='categorical',\n",
        "    subset='training'\n",
        ")\n",
        "\n",
        "validation_generator = train_datagen.flow_from_directory(\n",
        "    train_dir,\n",
        "    target_size=(150,150),\n",
        "    batch_size=16,\n",
        "    class_mode='categorical',\n",
        "    subset='validation'\n",
        ")"
      ],
      "execution_count": 8,
      "outputs": [
        {
          "output_type": "stream",
          "text": [
            "Found 499 images belonging to 6 classes.\n",
            "Found 52 images belonging to 6 classes.\n"
          ],
          "name": "stdout"
        }
      ]
    },
    {
      "cell_type": "code",
      "metadata": {
        "id": "6x674UJOOIZv",
        "colab_type": "code",
        "colab": {
          "base_uri": "https://localhost:8080/",
          "height": 54
        },
        "outputId": "e1c0de35-ac85-405a-d837-af0b13a47472"
      },
      "source": [
        "    import tensorflow as tf\n",
        "    from tensorflow.keras.layers import Input\n",
        "    from tensorflow.keras.applications import ResNet50\n",
        "    from tensorflow.keras.applications import ResNet152V2\n",
        "    model = tf.keras.models.Sequential([\n",
        "        ResNet152V2(weights=\"imagenet\", include_top=False, input_tensor=Input(shape=(150, 150, 3))),\n",
        "        # tf.keras.layers.Dropout(0.4),\n",
        "        tf.keras.layers.Flatten(), \n",
        "        tf.keras.layers.Dense(512, activation='relu'),\n",
        "        tf.keras.layers.Dropout(0.2),\n",
        "        tf.keras.layers.Dense(256, activation='relu'),\n",
        "        tf.keras.layers.Dropout(0.2),\n",
        "        tf.keras.layers.Dense(6, activation='softmax')  \n",
        "    ])\n",
        "    model.layers[0].trainable = False"
      ],
      "execution_count": 2,
      "outputs": [
        {
          "output_type": "stream",
          "text": [
            "Downloading data from https://storage.googleapis.com/tensorflow/keras-applications/resnet/resnet152v2_weights_tf_dim_ordering_tf_kernels_notop.h5\n",
            "234553344/234545216 [==============================] - 6s 0us/step\n"
          ],
          "name": "stdout"
        }
      ]
    },
    {
      "cell_type": "code",
      "metadata": {
        "id": "o2Dbkb9MOmIb",
        "colab_type": "code",
        "colab": {}
      },
      "source": [
        "    model.compile(optimizer=tf.optimizers.Adam(),\n",
        "                  loss='categorical_crossentropy',\n",
        "                  metrics = ['accuracy'])"
      ],
      "execution_count": 9,
      "outputs": []
    },
    {
      "cell_type": "code",
      "metadata": {
        "id": "0PFUeUsGOoaB",
        "colab_type": "code",
        "colab": {
          "base_uri": "https://localhost:8080/",
          "height": 1000
        },
        "outputId": "8daffa70-07a8-4a4c-8e53-7a45d9d85d42"
      },
      "source": [
        "    history = model.fit(train_generator,\n",
        "                                  validation_data=validation_generator,\n",
        "                                  epochs=50,\n",
        "                                  verbose=2)"
      ],
      "execution_count": 10,
      "outputs": [
        {
          "output_type": "stream",
          "text": [
            "Epoch 1/50\n",
            "63/63 - 17s - loss: 13.2336 - accuracy: 0.3768 - val_loss: 3.0517 - val_accuracy: 0.5962\n",
            "Epoch 2/50\n",
            "63/63 - 13s - loss: 3.6784 - accuracy: 0.5752 - val_loss: 2.3827 - val_accuracy: 0.5000\n",
            "Epoch 3/50\n",
            "63/63 - 13s - loss: 2.0202 - accuracy: 0.6533 - val_loss: 1.4436 - val_accuracy: 0.6923\n",
            "Epoch 4/50\n",
            "63/63 - 13s - loss: 1.8559 - accuracy: 0.6293 - val_loss: 0.7506 - val_accuracy: 0.7500\n",
            "Epoch 5/50\n",
            "63/63 - 13s - loss: 1.2562 - accuracy: 0.7034 - val_loss: 0.7452 - val_accuracy: 0.7308\n",
            "Epoch 6/50\n",
            "63/63 - 13s - loss: 1.4340 - accuracy: 0.6713 - val_loss: 1.2999 - val_accuracy: 0.5962\n",
            "Epoch 7/50\n",
            "63/63 - 13s - loss: 1.2995 - accuracy: 0.7114 - val_loss: 0.6550 - val_accuracy: 0.8077\n",
            "Epoch 8/50\n",
            "63/63 - 13s - loss: 1.0849 - accuracy: 0.7555 - val_loss: 1.3635 - val_accuracy: 0.6538\n",
            "Epoch 9/50\n",
            "63/63 - 13s - loss: 1.5125 - accuracy: 0.7395 - val_loss: 0.6308 - val_accuracy: 0.7308\n",
            "Epoch 10/50\n",
            "63/63 - 13s - loss: 1.0902 - accuracy: 0.7615 - val_loss: 1.4837 - val_accuracy: 0.5962\n",
            "Epoch 11/50\n",
            "63/63 - 13s - loss: 0.8971 - accuracy: 0.7856 - val_loss: 0.9065 - val_accuracy: 0.7692\n",
            "Epoch 12/50\n",
            "63/63 - 13s - loss: 0.8550 - accuracy: 0.7735 - val_loss: 0.8885 - val_accuracy: 0.7692\n",
            "Epoch 13/50\n",
            "63/63 - 13s - loss: 0.8680 - accuracy: 0.7836 - val_loss: 1.0305 - val_accuracy: 0.6923\n",
            "Epoch 14/50\n",
            "63/63 - 13s - loss: 0.6779 - accuracy: 0.8196 - val_loss: 0.9397 - val_accuracy: 0.8077\n",
            "Epoch 15/50\n",
            "63/63 - 13s - loss: 0.8660 - accuracy: 0.8216 - val_loss: 0.8102 - val_accuracy: 0.7885\n",
            "Epoch 16/50\n",
            "63/63 - 13s - loss: 0.6244 - accuracy: 0.8417 - val_loss: 0.9960 - val_accuracy: 0.6731\n",
            "Epoch 17/50\n",
            "63/63 - 13s - loss: 0.5534 - accuracy: 0.8397 - val_loss: 1.0308 - val_accuracy: 0.6731\n",
            "Epoch 18/50\n",
            "63/63 - 13s - loss: 0.5734 - accuracy: 0.8437 - val_loss: 0.5742 - val_accuracy: 0.8462\n",
            "Epoch 19/50\n",
            "63/63 - 13s - loss: 0.5383 - accuracy: 0.8417 - val_loss: 0.7728 - val_accuracy: 0.7692\n",
            "Epoch 20/50\n",
            "63/63 - 13s - loss: 0.6678 - accuracy: 0.8477 - val_loss: 0.8000 - val_accuracy: 0.7885\n",
            "Epoch 21/50\n",
            "63/63 - 13s - loss: 0.4637 - accuracy: 0.8637 - val_loss: 0.6399 - val_accuracy: 0.7692\n",
            "Epoch 22/50\n",
            "63/63 - 13s - loss: 0.7191 - accuracy: 0.8196 - val_loss: 0.4610 - val_accuracy: 0.7885\n",
            "Epoch 23/50\n",
            "63/63 - 13s - loss: 0.6321 - accuracy: 0.8457 - val_loss: 0.5860 - val_accuracy: 0.8077\n",
            "Epoch 24/50\n",
            "63/63 - 13s - loss: 0.6340 - accuracy: 0.8517 - val_loss: 0.4702 - val_accuracy: 0.8269\n",
            "Epoch 25/50\n",
            "63/63 - 13s - loss: 0.3723 - accuracy: 0.8858 - val_loss: 0.8075 - val_accuracy: 0.7885\n",
            "Epoch 26/50\n",
            "63/63 - 13s - loss: 0.4892 - accuracy: 0.8838 - val_loss: 0.4723 - val_accuracy: 0.8462\n",
            "Epoch 27/50\n",
            "63/63 - 13s - loss: 0.4543 - accuracy: 0.8818 - val_loss: 0.4418 - val_accuracy: 0.8269\n",
            "Epoch 28/50\n",
            "63/63 - 13s - loss: 0.3780 - accuracy: 0.8918 - val_loss: 0.5185 - val_accuracy: 0.8269\n",
            "Epoch 29/50\n",
            "63/63 - 14s - loss: 0.3793 - accuracy: 0.8898 - val_loss: 0.6406 - val_accuracy: 0.7308\n",
            "Epoch 30/50\n",
            "63/63 - 13s - loss: 0.4358 - accuracy: 0.8818 - val_loss: 0.9387 - val_accuracy: 0.8077\n",
            "Epoch 31/50\n",
            "63/63 - 13s - loss: 0.3610 - accuracy: 0.8818 - val_loss: 0.4138 - val_accuracy: 0.8846\n",
            "Epoch 32/50\n",
            "63/63 - 13s - loss: 0.4022 - accuracy: 0.8958 - val_loss: 0.5166 - val_accuracy: 0.8462\n",
            "Epoch 33/50\n",
            "63/63 - 13s - loss: 0.3931 - accuracy: 0.8898 - val_loss: 0.5999 - val_accuracy: 0.7885\n",
            "Epoch 34/50\n",
            "63/63 - 13s - loss: 0.5836 - accuracy: 0.8617 - val_loss: 0.3863 - val_accuracy: 0.8462\n",
            "Epoch 35/50\n",
            "63/63 - 13s - loss: 0.2601 - accuracy: 0.9118 - val_loss: 0.4402 - val_accuracy: 0.8077\n",
            "Epoch 36/50\n",
            "63/63 - 13s - loss: 0.2574 - accuracy: 0.9078 - val_loss: 0.9002 - val_accuracy: 0.7885\n",
            "Epoch 37/50\n",
            "63/63 - 13s - loss: 0.3775 - accuracy: 0.9098 - val_loss: 0.9932 - val_accuracy: 0.7692\n",
            "Epoch 38/50\n",
            "63/63 - 13s - loss: 0.5460 - accuracy: 0.8818 - val_loss: 0.4981 - val_accuracy: 0.8462\n",
            "Epoch 39/50\n",
            "63/63 - 13s - loss: 0.4292 - accuracy: 0.8858 - val_loss: 0.5677 - val_accuracy: 0.8462\n",
            "Epoch 40/50\n",
            "63/63 - 13s - loss: 0.3418 - accuracy: 0.9158 - val_loss: 1.0711 - val_accuracy: 0.7500\n",
            "Epoch 41/50\n",
            "63/63 - 13s - loss: 0.4158 - accuracy: 0.9058 - val_loss: 0.8092 - val_accuracy: 0.7500\n",
            "Epoch 42/50\n",
            "63/63 - 13s - loss: 0.3802 - accuracy: 0.9118 - val_loss: 0.9128 - val_accuracy: 0.7885\n",
            "Epoch 43/50\n",
            "63/63 - 13s - loss: 0.3061 - accuracy: 0.9198 - val_loss: 0.7346 - val_accuracy: 0.8077\n",
            "Epoch 44/50\n",
            "63/63 - 13s - loss: 0.1995 - accuracy: 0.9339 - val_loss: 1.2539 - val_accuracy: 0.7500\n",
            "Epoch 45/50\n",
            "63/63 - 13s - loss: 0.3351 - accuracy: 0.9118 - val_loss: 0.6663 - val_accuracy: 0.8654\n",
            "Epoch 46/50\n",
            "63/63 - 13s - loss: 0.3315 - accuracy: 0.9098 - val_loss: 0.9660 - val_accuracy: 0.8269\n",
            "Epoch 47/50\n",
            "63/63 - 13s - loss: 0.3609 - accuracy: 0.9339 - val_loss: 0.4565 - val_accuracy: 0.8846\n",
            "Epoch 48/50\n",
            "63/63 - 13s - loss: 0.4163 - accuracy: 0.9238 - val_loss: 0.5307 - val_accuracy: 0.8846\n",
            "Epoch 49/50\n",
            "63/63 - 13s - loss: 0.2705 - accuracy: 0.9319 - val_loss: 0.5183 - val_accuracy: 0.7500\n",
            "Epoch 50/50\n",
            "63/63 - 14s - loss: 0.2134 - accuracy: 0.9439 - val_loss: 0.7439 - val_accuracy: 0.7500\n"
          ],
          "name": "stdout"
        }
      ]
    },
    {
      "cell_type": "code",
      "metadata": {
        "id": "2MR3OljYUHy8",
        "colab_type": "code",
        "colab": {
          "base_uri": "https://localhost:8080/",
          "height": 191
        },
        "outputId": "00769dc4-4c61-4049-b8ec-6139a3b5a20d"
      },
      "source": [
        "import matplotlib.pyplot as plt\n",
        "plt.plot(history.history(['accuracy']))"
      ],
      "execution_count": 13,
      "outputs": [
        {
          "output_type": "error",
          "ename": "TypeError",
          "evalue": "ignored",
          "traceback": [
            "\u001b[0;31m---------------------------------------------------------------------------\u001b[0m",
            "\u001b[0;31mTypeError\u001b[0m                                 Traceback (most recent call last)",
            "\u001b[0;32m<ipython-input-13-7501b544dde4>\u001b[0m in \u001b[0;36m<module>\u001b[0;34m()\u001b[0m\n\u001b[1;32m      1\u001b[0m \u001b[0;32mimport\u001b[0m \u001b[0mmatplotlib\u001b[0m\u001b[0;34m.\u001b[0m\u001b[0mpyplot\u001b[0m \u001b[0;32mas\u001b[0m \u001b[0mplt\u001b[0m\u001b[0;34m\u001b[0m\u001b[0;34m\u001b[0m\u001b[0m\n\u001b[0;32m----> 2\u001b[0;31m \u001b[0mplt\u001b[0m\u001b[0;34m.\u001b[0m\u001b[0mplot\u001b[0m\u001b[0;34m(\u001b[0m\u001b[0mhistory\u001b[0m\u001b[0;34m.\u001b[0m\u001b[0mhistory\u001b[0m\u001b[0;34m(\u001b[0m\u001b[0;34m[\u001b[0m\u001b[0;34m'accuracy'\u001b[0m\u001b[0;34m]\u001b[0m\u001b[0;34m)\u001b[0m\u001b[0;34m)\u001b[0m\u001b[0;34m\u001b[0m\u001b[0;34m\u001b[0m\u001b[0m\n\u001b[0m",
            "\u001b[0;31mTypeError\u001b[0m: 'dict' object is not callable"
          ]
        }
      ]
    },
    {
      "cell_type": "code",
      "metadata": {
        "id": "shVcYU9vXR8T",
        "colab_type": "code",
        "colab": {
          "base_uri": "https://localhost:8080/",
          "height": 295
        },
        "outputId": "5a3507aa-b3c7-41c6-8317-3c0af61c207c"
      },
      "source": [
        "    import matplotlib.pyplot as plt\n",
        "    plt.plot(history.history['accuracy'])\n",
        "    plt.plot(history.history['val_accuracy'])\n",
        "    plt.title('Akurasi Model')\n",
        "    plt.ylabel('accuracy')\n",
        "    plt.xlabel('epoch')\n",
        "    plt.legend(['train', 'test'], loc='upper left')\n",
        "    plt.show()"
      ],
      "execution_count": 14,
      "outputs": [
        {
          "output_type": "display_data",
          "data": {
            "image/png": "[encoded data removed]",
            "text/plain": [
              "<Figure size 432x288 with 1 Axes>"
            ]
          },
          "metadata": {
            "tags": [],
            "needs_background": "light"
          }
        }
      ]
    },
    {
      "cell_type": "code",
      "metadata": {
        "id": "l3Mt-0AIX2d-",
        "colab_type": "code",
        "colab": {
          "base_uri": "https://localhost:8080/",
          "height": 295
        },
        "outputId": "b0b94ef8-4396-4a41-a9cb-2402b5b0caf5"
      },
      "source": [
        "    plt.plot(history.history['loss'])\n",
        "    plt.plot(history.history['val_loss'])\n",
        "    plt.title('Loss Model')\n",
        "    plt.ylabel('loss')\n",
        "    plt.xlabel('epoch')\n",
        "    plt.legend(['train', 'test'], loc='upper left')\n",
        "    plt.show()"
      ],
      "execution_count": 15,
      "outputs": [
        {
          "output_type": "display_data",
          "data": {
            "image/png": "[encoded data removed]",
            "text/plain": [
              "<Figure size 432x288 with 1 Axes>"
            ]
          },
          "metadata": {
            "tags": [],
            "needs_background": "light"
          }
        }
      ]
    },
    {
      "cell_type": "code",
      "metadata": {
        "id": "9bDzQrfJX6OD",
        "colab_type": "code",
        "colab": {}
      },
      "source": [
        ""
      ],
      "execution_count": null,
      "outputs": []
    }
  ]
}