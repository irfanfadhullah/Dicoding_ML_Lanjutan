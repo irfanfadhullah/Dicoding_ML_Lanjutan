{
  "nbformat": 4,
  "nbformat_minor": 0,
  "metadata": {
    "colab": {
      "name": "Orange vs Grape NN.ipynb",
      "provenance": []
    },
    "kernelspec": {
      "name": "python3",
      "display_name": "Python 3"
    }
  },
  "cells": [
    {
      "cell_type": "code",
      "metadata": {
        "id": "vjRoeYaviKKc",
        "colab_type": "code",
        "colab": {}
      },
      "source": [
        "import pandas as pd\n",
        "import numpy as np\n",
        "import tensorflow as tf\n",
        "import matplotlib.pyplot as plt"
      ],
      "execution_count": 1,
      "outputs": []
    },
    {
      "cell_type": "code",
      "metadata": {
        "id": "hmTqpOJbj1iN",
        "colab_type": "code",
        "colab": {
          "base_uri": "https://localhost:8080/",
          "height": 36
        },
        "outputId": "c86300b9-19f0-434d-b496-6fa3bf78fb4c"
      },
      "source": [
        "import os\n",
        "path='/tmp'\n",
        "path"
      ],
      "execution_count": 3,
      "outputs": [
        {
          "output_type": "execute_result",
          "data": {
            "application/vnd.google.colaboratory.intrinsic+json": {
              "type": "string"
            },
            "text/plain": [
              "'/tmp'"
            ]
          },
          "metadata": {
            "tags": []
          },
          "execution_count": 3
        }
      ]
    },
    {
      "cell_type": "code",
      "metadata": {
        "id": "g4BiYzjAj_7z",
        "colab_type": "code",
        "colab": {
          "base_uri": "https://localhost:8080/",
          "height": 206
        },
        "outputId": "122b1413-76c9-41fa-9f55-0bd51f3ff608"
      },
      "source": [
        "df = pd.read_csv(path+'/citrus.csv')\n",
        "df.head()"
      ],
      "execution_count": 5,
      "outputs": [
        {
          "output_type": "execute_result",
          "data": {
            "text/html": [
              "<div>\n",
              "<style scoped>\n",
              "    .dataframe tbody tr th:only-of-type {\n",
              "        vertical-align: middle;\n",
              "    }\n",
              "\n",
              "    .dataframe tbody tr th {\n",
              "        vertical-align: top;\n",
              "    }\n",
              "\n",
              "    .dataframe thead th {\n",
              "        text-align: right;\n",
              "    }\n",
              "</style>\n",
              "<table border=\"1\" class=\"dataframe\">\n",
              "  <thead>\n",
              "    <tr style=\"text-align: right;\">\n",
              "      <th></th>\n",
              "      <th>name</th>\n",
              "      <th>diameter</th>\n",
              "      <th>weight</th>\n",
              "      <th>red</th>\n",
              "      <th>green</th>\n",
              "      <th>blue</th>\n",
              "    </tr>\n",
              "  </thead>\n",
              "  <tbody>\n",
              "    <tr>\n",
              "      <th>0</th>\n",
              "      <td>orange</td>\n",
              "      <td>2.96</td>\n",
              "      <td>86.76</td>\n",
              "      <td>172</td>\n",
              "      <td>85</td>\n",
              "      <td>2</td>\n",
              "    </tr>\n",
              "    <tr>\n",
              "      <th>1</th>\n",
              "      <td>orange</td>\n",
              "      <td>3.91</td>\n",
              "      <td>88.05</td>\n",
              "      <td>166</td>\n",
              "      <td>78</td>\n",
              "      <td>3</td>\n",
              "    </tr>\n",
              "    <tr>\n",
              "      <th>2</th>\n",
              "      <td>orange</td>\n",
              "      <td>4.42</td>\n",
              "      <td>95.17</td>\n",
              "      <td>156</td>\n",
              "      <td>81</td>\n",
              "      <td>2</td>\n",
              "    </tr>\n",
              "    <tr>\n",
              "      <th>3</th>\n",
              "      <td>orange</td>\n",
              "      <td>4.47</td>\n",
              "      <td>95.60</td>\n",
              "      <td>163</td>\n",
              "      <td>81</td>\n",
              "      <td>4</td>\n",
              "    </tr>\n",
              "    <tr>\n",
              "      <th>4</th>\n",
              "      <td>orange</td>\n",
              "      <td>4.48</td>\n",
              "      <td>95.76</td>\n",
              "      <td>161</td>\n",
              "      <td>72</td>\n",
              "      <td>9</td>\n",
              "    </tr>\n",
              "  </tbody>\n",
              "</table>\n",
              "</div>"
            ],
            "text/plain": [
              "     name  diameter  weight  red  green  blue\n",
              "0  orange      2.96   86.76  172     85     2\n",
              "1  orange      3.91   88.05  166     78     3\n",
              "2  orange      4.42   95.17  156     81     2\n",
              "3  orange      4.47   95.60  163     81     4\n",
              "4  orange      4.48   95.76  161     72     9"
            ]
          },
          "metadata": {
            "tags": []
          },
          "execution_count": 5
        }
      ]
    },
    {
      "cell_type": "code",
      "metadata": {
        "id": "I-UICrJXkMGg",
        "colab_type": "code",
        "colab": {
          "base_uri": "https://localhost:8080/",
          "height": 256
        },
        "outputId": "a745d6dd-9e79-40fd-9f54-224c080949a8"
      },
      "source": [
        "df.info()"
      ],
      "execution_count": 6,
      "outputs": [
        {
          "output_type": "stream",
          "text": [
            "<class 'pandas.core.frame.DataFrame'>\n",
            "RangeIndex: 10000 entries, 0 to 9999\n",
            "Data columns (total 6 columns):\n",
            " #   Column    Non-Null Count  Dtype  \n",
            "---  ------    --------------  -----  \n",
            " 0   name      10000 non-null  object \n",
            " 1   diameter  10000 non-null  float64\n",
            " 2   weight    10000 non-null  float64\n",
            " 3   red       10000 non-null  int64  \n",
            " 4   green     10000 non-null  int64  \n",
            " 5   blue      10000 non-null  int64  \n",
            "dtypes: float64(2), int64(3), object(1)\n",
            "memory usage: 468.9+ KB\n"
          ],
          "name": "stdout"
        }
      ]
    },
    {
      "cell_type": "code",
      "metadata": {
        "id": "exigiL7hkRmo",
        "colab_type": "code",
        "colab": {
          "base_uri": "https://localhost:8080/",
          "height": 300
        },
        "outputId": "2bc51071-3add-45a7-e8d5-403fca9cb6d2"
      },
      "source": [
        "df.describe()"
      ],
      "execution_count": 7,
      "outputs": [
        {
          "output_type": "execute_result",
          "data": {
            "text/html": [
              "<div>\n",
              "<style scoped>\n",
              "    .dataframe tbody tr th:only-of-type {\n",
              "        vertical-align: middle;\n",
              "    }\n",
              "\n",
              "    .dataframe tbody tr th {\n",
              "        vertical-align: top;\n",
              "    }\n",
              "\n",
              "    .dataframe thead th {\n",
              "        text-align: right;\n",
              "    }\n",
              "</style>\n",
              "<table border=\"1\" class=\"dataframe\">\n",
              "  <thead>\n",
              "    <tr style=\"text-align: right;\">\n",
              "      <th></th>\n",
              "      <th>diameter</th>\n",
              "      <th>weight</th>\n",
              "      <th>red</th>\n",
              "      <th>green</th>\n",
              "      <th>blue</th>\n",
              "    </tr>\n",
              "  </thead>\n",
              "  <tbody>\n",
              "    <tr>\n",
              "      <th>count</th>\n",
              "      <td>10000.000000</td>\n",
              "      <td>10000.000000</td>\n",
              "      <td>10000.000000</td>\n",
              "      <td>10000.000000</td>\n",
              "      <td>10000.000000</td>\n",
              "    </tr>\n",
              "    <tr>\n",
              "      <th>mean</th>\n",
              "      <td>9.975685</td>\n",
              "      <td>175.050792</td>\n",
              "      <td>153.847800</td>\n",
              "      <td>76.010600</td>\n",
              "      <td>11.363200</td>\n",
              "    </tr>\n",
              "    <tr>\n",
              "      <th>std</th>\n",
              "      <td>1.947844</td>\n",
              "      <td>29.212119</td>\n",
              "      <td>10.432954</td>\n",
              "      <td>11.708433</td>\n",
              "      <td>9.061275</td>\n",
              "    </tr>\n",
              "    <tr>\n",
              "      <th>min</th>\n",
              "      <td>2.960000</td>\n",
              "      <td>86.760000</td>\n",
              "      <td>115.000000</td>\n",
              "      <td>31.000000</td>\n",
              "      <td>2.000000</td>\n",
              "    </tr>\n",
              "    <tr>\n",
              "      <th>25%</th>\n",
              "      <td>8.460000</td>\n",
              "      <td>152.220000</td>\n",
              "      <td>147.000000</td>\n",
              "      <td>68.000000</td>\n",
              "      <td>2.000000</td>\n",
              "    </tr>\n",
              "    <tr>\n",
              "      <th>50%</th>\n",
              "      <td>9.980000</td>\n",
              "      <td>174.985000</td>\n",
              "      <td>154.000000</td>\n",
              "      <td>76.000000</td>\n",
              "      <td>10.000000</td>\n",
              "    </tr>\n",
              "    <tr>\n",
              "      <th>75%</th>\n",
              "      <td>11.480000</td>\n",
              "      <td>197.722500</td>\n",
              "      <td>161.000000</td>\n",
              "      <td>84.000000</td>\n",
              "      <td>17.000000</td>\n",
              "    </tr>\n",
              "    <tr>\n",
              "      <th>max</th>\n",
              "      <td>16.450000</td>\n",
              "      <td>261.510000</td>\n",
              "      <td>192.000000</td>\n",
              "      <td>116.000000</td>\n",
              "      <td>56.000000</td>\n",
              "    </tr>\n",
              "  </tbody>\n",
              "</table>\n",
              "</div>"
            ],
            "text/plain": [
              "           diameter        weight           red         green          blue\n",
              "count  10000.000000  10000.000000  10000.000000  10000.000000  10000.000000\n",
              "mean       9.975685    175.050792    153.847800     76.010600     11.363200\n",
              "std        1.947844     29.212119     10.432954     11.708433      9.061275\n",
              "min        2.960000     86.760000    115.000000     31.000000      2.000000\n",
              "25%        8.460000    152.220000    147.000000     68.000000      2.000000\n",
              "50%        9.980000    174.985000    154.000000     76.000000     10.000000\n",
              "75%       11.480000    197.722500    161.000000     84.000000     17.000000\n",
              "max       16.450000    261.510000    192.000000    116.000000     56.000000"
            ]
          },
          "metadata": {
            "tags": []
          },
          "execution_count": 7
        }
      ]
    },
    {
      "cell_type": "code",
      "metadata": {
        "id": "XqemLhPnkTtd",
        "colab_type": "code",
        "colab": {
          "base_uri": "https://localhost:8080/",
          "height": 221
        },
        "outputId": "b3c23933-4df3-4f62-ee5f-30c4ee0dd839"
      },
      "source": [
        "df.name[df.name=='orange'] = 0\n",
        "df.name[df.name=='grapefruit']=1"
      ],
      "execution_count": 8,
      "outputs": [
        {
          "output_type": "stream",
          "text": [
            "/usr/local/lib/python3.6/dist-packages/ipykernel_launcher.py:1: SettingWithCopyWarning: \n",
            "A value is trying to be set on a copy of a slice from a DataFrame\n",
            "\n",
            "See the caveats in the documentation: https://pandas.pydata.org/pandas-docs/stable/user_guide/indexing.html#returning-a-view-versus-a-copy\n",
            "  \"\"\"Entry point for launching an IPython kernel.\n",
            "/usr/local/lib/python3.6/dist-packages/ipykernel_launcher.py:2: SettingWithCopyWarning: \n",
            "A value is trying to be set on a copy of a slice from a DataFrame\n",
            "\n",
            "See the caveats in the documentation: https://pandas.pydata.org/pandas-docs/stable/user_guide/indexing.html#returning-a-view-versus-a-copy\n",
            "  \n"
          ],
          "name": "stderr"
        }
      ]
    },
    {
      "cell_type": "code",
      "metadata": {
        "id": "eHAoQuBGkmcx",
        "colab_type": "code",
        "colab": {}
      },
      "source": [
        "dataset=df.values"
      ],
      "execution_count": 9,
      "outputs": []
    },
    {
      "cell_type": "code",
      "metadata": {
        "id": "vu9KAqwekoTu",
        "colab_type": "code",
        "colab": {
          "base_uri": "https://localhost:8080/",
          "height": 146
        },
        "outputId": "d46dabb3-e079-49ad-8c31-b8429bf5ac95"
      },
      "source": [
        "dataset"
      ],
      "execution_count": 10,
      "outputs": [
        {
          "output_type": "execute_result",
          "data": {
            "text/plain": [
              "array([[0, 2.96, 86.76, 172, 85, 2],\n",
              "       [0, 3.91, 88.05, 166, 78, 3],\n",
              "       [0, 4.42, 95.17, 156, 81, 2],\n",
              "       ...,\n",
              "       [1, 15.59, 256.5, 168, 82, 20],\n",
              "       [1, 15.92, 260.14, 142, 72, 11],\n",
              "       [1, 16.45, 261.51, 152, 74, 2]], dtype=object)"
            ]
          },
          "metadata": {
            "tags": []
          },
          "execution_count": 10
        }
      ]
    },
    {
      "cell_type": "code",
      "metadata": {
        "id": "hkWUjYNzkqn1",
        "colab_type": "code",
        "colab": {}
      },
      "source": [
        "X = dataset[:,1:6]\n",
        "y = dataset[:,0]"
      ],
      "execution_count": 26,
      "outputs": []
    },
    {
      "cell_type": "code",
      "metadata": {
        "id": "ABQNRBP4lHBe",
        "colab_type": "code",
        "colab": {
          "base_uri": "https://localhost:8080/",
          "height": 146
        },
        "outputId": "8d868eca-65ff-4d28-a44c-419edccb68f1"
      },
      "source": [
        "from sklearn.preprocessing import MinMaxScaler\n",
        "scale=MinMaxScaler()\n",
        "X_scale=scale.fit_transform(X)\n",
        "X_scale"
      ],
      "execution_count": 27,
      "outputs": [
        {
          "output_type": "execute_result",
          "data": {
            "text/plain": [
              "array([[0.        , 0.        , 0.74025974, 0.63529412, 0.        ],\n",
              "       [0.07042254, 0.00738197, 0.66233766, 0.55294118, 0.01851852],\n",
              "       [0.10822832, 0.04812589, 0.53246753, 0.58823529, 0.        ],\n",
              "       ...,\n",
              "       [0.93624907, 0.97133047, 0.68831169, 0.6       , 0.33333333],\n",
              "       [0.96071164, 0.99216023, 0.35064935, 0.48235294, 0.16666667],\n",
              "       [1.        , 1.        , 0.48051948, 0.50588235, 0.        ]])"
            ]
          },
          "metadata": {
            "tags": []
          },
          "execution_count": 27
        }
      ]
    },
    {
      "cell_type": "code",
      "metadata": {
        "id": "y8q_Xk0HlYfg",
        "colab_type": "code",
        "colab": {}
      },
      "source": [
        "from sklearn.model_selection import train_test_split\n",
        "X_train,X_test,y_train,y_test = train_test_split(X_scale,y,test_size=0.3)"
      ],
      "execution_count": 28,
      "outputs": []
    },
    {
      "cell_type": "code",
      "metadata": {
        "id": "RNlktCnhlp0Y",
        "colab_type": "code",
        "colab": {}
      },
      "source": [
        "\n",
        "import keras\n",
        "from keras.models import Sequential\n",
        "from keras.layers import Dense"
      ],
      "execution_count": 29,
      "outputs": []
    },
    {
      "cell_type": "code",
      "metadata": {
        "id": "alKY6Sdhl1ok",
        "colab_type": "code",
        "colab": {
          "base_uri": "https://localhost:8080/",
          "height": 1000
        },
        "outputId": "36ecea12-a4d0-421d-8cbe-60f7aa7badaf"
      },
      "source": [
        "model = Sequential([\n",
        "                    Dense(32,activation='relu', input_shape=(5,)),\n",
        "                    Dense(32,activation='relu'),\n",
        "                    Dense(1, activation='sigmoid'),\n",
        "])\n",
        "y_train=y_train.astype(np.float32)\n",
        "model.compile(optimizer='sgd', loss='binary_crossentropy',metrics=['accuracy'])\n",
        "model.fit(X_train,y_train, epochs=100)"
      ],
      "execution_count": 30,
      "outputs": [
        {
          "output_type": "stream",
          "text": [
            "Epoch 1/100\n",
            "219/219 [==============================] - 0s 818us/step - loss: 0.6348 - accuracy: 0.8439\n",
            "Epoch 2/100\n",
            "219/219 [==============================] - 0s 874us/step - loss: 0.5618 - accuracy: 0.9153\n",
            "Epoch 3/100\n",
            "219/219 [==============================] - 0s 825us/step - loss: 0.4705 - accuracy: 0.9229\n",
            "Epoch 4/100\n",
            "219/219 [==============================] - 0s 821us/step - loss: 0.3725 - accuracy: 0.9296\n",
            "Epoch 5/100\n",
            "219/219 [==============================] - 0s 796us/step - loss: 0.2958 - accuracy: 0.9301\n",
            "Epoch 6/100\n",
            "219/219 [==============================] - 0s 851us/step - loss: 0.2476 - accuracy: 0.9304\n",
            "Epoch 7/100\n",
            "219/219 [==============================] - 0s 842us/step - loss: 0.2191 - accuracy: 0.9304\n",
            "Epoch 8/100\n",
            "219/219 [==============================] - 0s 841us/step - loss: 0.2026 - accuracy: 0.9306\n",
            "Epoch 9/100\n",
            "219/219 [==============================] - 0s 827us/step - loss: 0.1928 - accuracy: 0.9304\n",
            "Epoch 10/100\n",
            "219/219 [==============================] - 0s 951us/step - loss: 0.1862 - accuracy: 0.9306\n",
            "Epoch 11/100\n",
            "219/219 [==============================] - 0s 912us/step - loss: 0.1819 - accuracy: 0.9300\n",
            "Epoch 12/100\n",
            "219/219 [==============================] - 0s 968us/step - loss: 0.1791 - accuracy: 0.9313\n",
            "Epoch 13/100\n",
            "219/219 [==============================] - 0s 877us/step - loss: 0.1772 - accuracy: 0.9313\n",
            "Epoch 14/100\n",
            "219/219 [==============================] - 0s 843us/step - loss: 0.1763 - accuracy: 0.9303\n",
            "Epoch 15/100\n",
            "219/219 [==============================] - 0s 961us/step - loss: 0.1752 - accuracy: 0.9306\n",
            "Epoch 16/100\n",
            "219/219 [==============================] - 0s 975us/step - loss: 0.1746 - accuracy: 0.9306\n",
            "Epoch 17/100\n",
            "219/219 [==============================] - 0s 953us/step - loss: 0.1738 - accuracy: 0.9307\n",
            "Epoch 18/100\n",
            "219/219 [==============================] - 0s 867us/step - loss: 0.1735 - accuracy: 0.9306\n",
            "Epoch 19/100\n",
            "219/219 [==============================] - 0s 848us/step - loss: 0.1730 - accuracy: 0.9303\n",
            "Epoch 20/100\n",
            "219/219 [==============================] - 0s 948us/step - loss: 0.1727 - accuracy: 0.9301\n",
            "Epoch 21/100\n",
            "219/219 [==============================] - 0s 975us/step - loss: 0.1726 - accuracy: 0.9299\n",
            "Epoch 22/100\n",
            "219/219 [==============================] - 0s 954us/step - loss: 0.1731 - accuracy: 0.9294\n",
            "Epoch 23/100\n",
            "219/219 [==============================] - 0s 825us/step - loss: 0.1729 - accuracy: 0.9309\n",
            "Epoch 24/100\n",
            "219/219 [==============================] - 0s 802us/step - loss: 0.1730 - accuracy: 0.9304\n",
            "Epoch 25/100\n",
            "219/219 [==============================] - 0s 811us/step - loss: 0.1728 - accuracy: 0.9299\n",
            "Epoch 26/100\n",
            "219/219 [==============================] - 0s 801us/step - loss: 0.1729 - accuracy: 0.9297\n",
            "Epoch 27/100\n",
            "219/219 [==============================] - 0s 818us/step - loss: 0.1730 - accuracy: 0.9304\n",
            "Epoch 28/100\n",
            "219/219 [==============================] - 0s 1ms/step - loss: 0.1724 - accuracy: 0.9294\n",
            "Epoch 29/100\n",
            "219/219 [==============================] - 0s 826us/step - loss: 0.1724 - accuracy: 0.9304\n",
            "Epoch 30/100\n",
            "219/219 [==============================] - 0s 802us/step - loss: 0.1723 - accuracy: 0.9299\n",
            "Epoch 31/100\n",
            "219/219 [==============================] - 0s 810us/step - loss: 0.1724 - accuracy: 0.9301\n",
            "Epoch 32/100\n",
            "219/219 [==============================] - 0s 807us/step - loss: 0.1726 - accuracy: 0.9297\n",
            "Epoch 33/100\n",
            "219/219 [==============================] - 0s 841us/step - loss: 0.1720 - accuracy: 0.9301\n",
            "Epoch 34/100\n",
            "219/219 [==============================] - 0s 814us/step - loss: 0.1727 - accuracy: 0.9297\n",
            "Epoch 35/100\n",
            "219/219 [==============================] - 0s 816us/step - loss: 0.1723 - accuracy: 0.9306\n",
            "Epoch 36/100\n",
            "219/219 [==============================] - 0s 806us/step - loss: 0.1726 - accuracy: 0.9316\n",
            "Epoch 37/100\n",
            "219/219 [==============================] - 0s 805us/step - loss: 0.1722 - accuracy: 0.9300\n",
            "Epoch 38/100\n",
            "219/219 [==============================] - 0s 791us/step - loss: 0.1721 - accuracy: 0.9317\n",
            "Epoch 39/100\n",
            "219/219 [==============================] - 0s 884us/step - loss: 0.1723 - accuracy: 0.9296\n",
            "Epoch 40/100\n",
            "219/219 [==============================] - 0s 878us/step - loss: 0.1724 - accuracy: 0.9299\n",
            "Epoch 41/100\n",
            "219/219 [==============================] - 0s 822us/step - loss: 0.1724 - accuracy: 0.9299\n",
            "Epoch 42/100\n",
            "219/219 [==============================] - 0s 1ms/step - loss: 0.1717 - accuracy: 0.9304\n",
            "Epoch 43/100\n",
            "219/219 [==============================] - 0s 984us/step - loss: 0.1723 - accuracy: 0.9307\n",
            "Epoch 44/100\n",
            "219/219 [==============================] - 0s 830us/step - loss: 0.1723 - accuracy: 0.9294\n",
            "Epoch 45/100\n",
            "219/219 [==============================] - 0s 817us/step - loss: 0.1724 - accuracy: 0.9310\n",
            "Epoch 46/100\n",
            "219/219 [==============================] - 0s 816us/step - loss: 0.1720 - accuracy: 0.9303\n",
            "Epoch 47/100\n",
            "219/219 [==============================] - 0s 796us/step - loss: 0.1722 - accuracy: 0.9299\n",
            "Epoch 48/100\n",
            "219/219 [==============================] - 0s 797us/step - loss: 0.1719 - accuracy: 0.9313\n",
            "Epoch 49/100\n",
            "219/219 [==============================] - 0s 810us/step - loss: 0.1721 - accuracy: 0.9307\n",
            "Epoch 50/100\n",
            "219/219 [==============================] - 0s 930us/step - loss: 0.1723 - accuracy: 0.9307\n",
            "Epoch 51/100\n",
            "219/219 [==============================] - 0s 822us/step - loss: 0.1719 - accuracy: 0.9306\n",
            "Epoch 52/100\n",
            "219/219 [==============================] - 0s 807us/step - loss: 0.1722 - accuracy: 0.9297\n",
            "Epoch 53/100\n",
            "219/219 [==============================] - 0s 974us/step - loss: 0.1721 - accuracy: 0.9307\n",
            "Epoch 54/100\n",
            "219/219 [==============================] - 0s 882us/step - loss: 0.1721 - accuracy: 0.9290\n",
            "Epoch 55/100\n",
            "219/219 [==============================] - 0s 853us/step - loss: 0.1723 - accuracy: 0.9301\n",
            "Epoch 56/100\n",
            "219/219 [==============================] - 0s 808us/step - loss: 0.1722 - accuracy: 0.9297\n",
            "Epoch 57/100\n",
            "219/219 [==============================] - 0s 819us/step - loss: 0.1723 - accuracy: 0.9310\n",
            "Epoch 58/100\n",
            "219/219 [==============================] - 0s 804us/step - loss: 0.1715 - accuracy: 0.9311\n",
            "Epoch 59/100\n",
            "219/219 [==============================] - 0s 848us/step - loss: 0.1720 - accuracy: 0.9323\n",
            "Epoch 60/100\n",
            "219/219 [==============================] - 0s 878us/step - loss: 0.1720 - accuracy: 0.9316\n",
            "Epoch 61/100\n",
            "219/219 [==============================] - 0s 834us/step - loss: 0.1718 - accuracy: 0.9304\n",
            "Epoch 62/100\n",
            "219/219 [==============================] - 0s 816us/step - loss: 0.1712 - accuracy: 0.9309\n",
            "Epoch 63/100\n",
            "219/219 [==============================] - 0s 810us/step - loss: 0.1721 - accuracy: 0.9310\n",
            "Epoch 64/100\n",
            "219/219 [==============================] - 0s 835us/step - loss: 0.1718 - accuracy: 0.9309\n",
            "Epoch 65/100\n",
            "219/219 [==============================] - 0s 827us/step - loss: 0.1720 - accuracy: 0.9291\n",
            "Epoch 66/100\n",
            "219/219 [==============================] - 0s 843us/step - loss: 0.1721 - accuracy: 0.9307\n",
            "Epoch 67/100\n",
            "219/219 [==============================] - 0s 836us/step - loss: 0.1716 - accuracy: 0.9306\n",
            "Epoch 68/100\n",
            "219/219 [==============================] - 0s 822us/step - loss: 0.1722 - accuracy: 0.9300\n",
            "Epoch 69/100\n",
            "219/219 [==============================] - 0s 875us/step - loss: 0.1717 - accuracy: 0.9319\n",
            "Epoch 70/100\n",
            "219/219 [==============================] - 0s 817us/step - loss: 0.1719 - accuracy: 0.9299\n",
            "Epoch 71/100\n",
            "219/219 [==============================] - 0s 876us/step - loss: 0.1717 - accuracy: 0.9306\n",
            "Epoch 72/100\n",
            "219/219 [==============================] - 0s 806us/step - loss: 0.1717 - accuracy: 0.9313\n",
            "Epoch 73/100\n",
            "219/219 [==============================] - 0s 869us/step - loss: 0.1713 - accuracy: 0.9314\n",
            "Epoch 74/100\n",
            "219/219 [==============================] - 0s 952us/step - loss: 0.1713 - accuracy: 0.9296\n",
            "Epoch 75/100\n",
            "219/219 [==============================] - 0s 902us/step - loss: 0.1717 - accuracy: 0.9294\n",
            "Epoch 76/100\n",
            "219/219 [==============================] - 0s 868us/step - loss: 0.1716 - accuracy: 0.9303\n",
            "Epoch 77/100\n",
            "219/219 [==============================] - 0s 831us/step - loss: 0.1717 - accuracy: 0.9303\n",
            "Epoch 78/100\n",
            "219/219 [==============================] - 0s 815us/step - loss: 0.1715 - accuracy: 0.9303\n",
            "Epoch 79/100\n",
            "219/219 [==============================] - 0s 862us/step - loss: 0.1718 - accuracy: 0.9307\n",
            "Epoch 80/100\n",
            "219/219 [==============================] - 0s 811us/step - loss: 0.1716 - accuracy: 0.9304\n",
            "Epoch 81/100\n",
            "219/219 [==============================] - 0s 833us/step - loss: 0.1719 - accuracy: 0.9306\n",
            "Epoch 82/100\n",
            "219/219 [==============================] - 0s 860us/step - loss: 0.1712 - accuracy: 0.9314\n",
            "Epoch 83/100\n",
            "219/219 [==============================] - 0s 829us/step - loss: 0.1715 - accuracy: 0.9299\n",
            "Epoch 84/100\n",
            "219/219 [==============================] - 0s 822us/step - loss: 0.1713 - accuracy: 0.9323\n",
            "Epoch 85/100\n",
            "219/219 [==============================] - 0s 818us/step - loss: 0.1714 - accuracy: 0.9301\n",
            "Epoch 86/100\n",
            "219/219 [==============================] - 0s 822us/step - loss: 0.1714 - accuracy: 0.9313\n",
            "Epoch 87/100\n",
            "219/219 [==============================] - 0s 854us/step - loss: 0.1714 - accuracy: 0.9310\n",
            "Epoch 88/100\n",
            "219/219 [==============================] - 0s 812us/step - loss: 0.1717 - accuracy: 0.9304\n",
            "Epoch 89/100\n",
            "219/219 [==============================] - 0s 806us/step - loss: 0.1712 - accuracy: 0.9314\n",
            "Epoch 90/100\n",
            "219/219 [==============================] - 0s 842us/step - loss: 0.1708 - accuracy: 0.9307\n",
            "Epoch 91/100\n",
            "219/219 [==============================] - 0s 821us/step - loss: 0.1713 - accuracy: 0.9297\n",
            "Epoch 92/100\n",
            "219/219 [==============================] - 0s 885us/step - loss: 0.1716 - accuracy: 0.9319\n",
            "Epoch 93/100\n",
            "219/219 [==============================] - 0s 822us/step - loss: 0.1711 - accuracy: 0.9300\n",
            "Epoch 94/100\n",
            "219/219 [==============================] - 0s 831us/step - loss: 0.1715 - accuracy: 0.9296\n",
            "Epoch 95/100\n",
            "219/219 [==============================] - 0s 816us/step - loss: 0.1712 - accuracy: 0.9310\n",
            "Epoch 96/100\n",
            "219/219 [==============================] - 0s 846us/step - loss: 0.1715 - accuracy: 0.9310\n",
            "Epoch 97/100\n",
            "219/219 [==============================] - 0s 795us/step - loss: 0.1716 - accuracy: 0.9306\n",
            "Epoch 98/100\n",
            "219/219 [==============================] - 0s 878us/step - loss: 0.1716 - accuracy: 0.9304\n",
            "Epoch 99/100\n",
            "219/219 [==============================] - 0s 910us/step - loss: 0.1712 - accuracy: 0.9307\n",
            "Epoch 100/100\n",
            "219/219 [==============================] - 0s 878us/step - loss: 0.1708 - accuracy: 0.9309\n"
          ],
          "name": "stdout"
        },
        {
          "output_type": "execute_result",
          "data": {
            "text/plain": [
              "<tensorflow.python.keras.callbacks.History at 0x7f141fcffe80>"
            ]
          },
          "metadata": {
            "tags": []
          },
          "execution_count": 30
        }
      ]
    },
    {
      "cell_type": "code",
      "metadata": {
        "id": "0ISY5V9-mfSF",
        "colab_type": "code",
        "colab": {
          "base_uri": "https://localhost:8080/",
          "height": 54
        },
        "outputId": "1bcb60eb-c4e9-4a3c-bd5f-7aa65e7c1194"
      },
      "source": [
        "y_test=y_test.astype(np.float32)\n",
        "model.evaluate(X_test,y_test)"
      ],
      "execution_count": 32,
      "outputs": [
        {
          "output_type": "stream",
          "text": [
            "94/94 [==============================] - 0s 753us/step - loss: 0.1924 - accuracy: 0.9217\n"
          ],
          "name": "stdout"
        },
        {
          "output_type": "execute_result",
          "data": {
            "text/plain": [
              "[0.19238141179084778, 0.92166668176651]"
            ]
          },
          "metadata": {
            "tags": []
          },
          "execution_count": 32
        }
      ]
    },
    {
      "cell_type": "code",
      "metadata": {
        "id": "HxMWM6l3m3oK",
        "colab_type": "code",
        "colab": {}
      },
      "source": [
        ""
      ],
      "execution_count": null,
      "outputs": []
    }
  ]
}