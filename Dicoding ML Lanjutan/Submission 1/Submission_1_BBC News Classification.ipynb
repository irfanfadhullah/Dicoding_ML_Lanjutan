{
 "cells": [
  {
   "cell_type": "code",
   "execution_count": 1,
   "metadata": {
    "colab": {},
    "colab_type": "code",
    "id": "8nH6bmrZVKxk"
   },
   "outputs": [],
   "source": [
    "## BBC Category Dataset from Kaggle"
   ]
  },
  {
   "cell_type": "code",
   "execution_count": 202,
   "metadata": {
    "colab": {
     "base_uri": "https://localhost:8080/",
     "height": 206
    },
    "colab_type": "code",
    "id": "lyRJmiSFWkNq",
    "outputId": "0ffa8398-6aa5-409b-9881-d9941440ac70"
   },
   "outputs": [
    {
     "data": {
      "text/html": [
       "<div>\n",
       "<style scoped>\n",
       "    .dataframe tbody tr th:only-of-type {\n",
       "        vertical-align: middle;\n",
       "    }\n",
       "\n",
       "    .dataframe tbody tr th {\n",
       "        vertical-align: top;\n",
       "    }\n",
       "\n",
       "    .dataframe thead th {\n",
       "        text-align: right;\n",
       "    }\n",
       "</style>\n",
       "<table border=\"1\" class=\"dataframe\">\n",
       "  <thead>\n",
       "    <tr style=\"text-align: right;\">\n",
       "      <th></th>\n",
       "      <th>category</th>\n",
       "      <th>text</th>\n",
       "    </tr>\n",
       "  </thead>\n",
       "  <tbody>\n",
       "    <tr>\n",
       "      <th>0</th>\n",
       "      <td>tech</td>\n",
       "      <td>tv future in the hands of viewers with home th...</td>\n",
       "    </tr>\n",
       "    <tr>\n",
       "      <th>1</th>\n",
       "      <td>business</td>\n",
       "      <td>worldcom boss  left books alone  former worldc...</td>\n",
       "    </tr>\n",
       "    <tr>\n",
       "      <th>2</th>\n",
       "      <td>sport</td>\n",
       "      <td>tigers wary of farrell  gamble  leicester say ...</td>\n",
       "    </tr>\n",
       "    <tr>\n",
       "      <th>3</th>\n",
       "      <td>sport</td>\n",
       "      <td>yeading face newcastle in fa cup premiership s...</td>\n",
       "    </tr>\n",
       "    <tr>\n",
       "      <th>4</th>\n",
       "      <td>entertainment</td>\n",
       "      <td>ocean s twelve raids box office ocean s twelve...</td>\n",
       "    </tr>\n",
       "  </tbody>\n",
       "</table>\n",
       "</div>"
      ],
      "text/plain": [
       "        category                                               text\n",
       "0           tech  tv future in the hands of viewers with home th...\n",
       "1       business  worldcom boss  left books alone  former worldc...\n",
       "2          sport  tigers wary of farrell  gamble  leicester say ...\n",
       "3          sport  yeading face newcastle in fa cup premiership s...\n",
       "4  entertainment  ocean s twelve raids box office ocean s twelve..."
      ]
     },
     "execution_count": 202,
     "metadata": {
      "tags": []
     },
     "output_type": "execute_result"
    }
   ],
   "source": [
    "import pandas as pd\n",
    "import numpy as np\n",
    "df = pd.read_csv('/content/drive/My Drive/bbc-text.csv')\n",
    "df.head()"
   ]
  },
  {
   "cell_type": "code",
   "execution_count": 203,
   "metadata": {
    "colab": {
     "base_uri": "https://localhost:8080/",
     "height": 185
    },
    "colab_type": "code",
    "id": "KX-dgn_fS2Ry",
    "outputId": "d1e6263e-7b3e-4e59-d6a7-bc5dc7724f95"
   },
   "outputs": [
    {
     "name": "stdout",
     "output_type": "stream",
     "text": [
      "<class 'pandas.core.frame.DataFrame'>\n",
      "RangeIndex: 2225 entries, 0 to 2224\n",
      "Data columns (total 2 columns):\n",
      " #   Column    Non-Null Count  Dtype \n",
      "---  ------    --------------  ----- \n",
      " 0   category  2225 non-null   object\n",
      " 1   text      2225 non-null   object\n",
      "dtypes: object(2)\n",
      "memory usage: 34.9+ KB\n"
     ]
    }
   ],
   "source": [
    "df.info()"
   ]
  },
  {
   "cell_type": "code",
   "execution_count": 204,
   "metadata": {
    "colab": {
     "base_uri": "https://localhost:8080/",
     "height": 54
    },
    "colab_type": "code",
    "id": "tBg38VqI3X2p",
    "outputId": "b96cb19d-aae8-4f7a-d7ee-90d250d9806a"
   },
   "outputs": [
    {
     "data": {
      "text/plain": [
       "array(['tech', 'business', 'sport', 'entertainment', 'politics'],\n",
       "      dtype=object)"
      ]
     },
     "execution_count": 204,
     "metadata": {
      "tags": []
     },
     "output_type": "execute_result"
    }
   ],
   "source": [
    "df.category.unique() #mencari tahu banyak category pada dataset"
   ]
  },
  {
   "cell_type": "code",
   "execution_count": 205,
   "metadata": {
    "colab": {},
    "colab_type": "code",
    "id": "YkW6EkVBOAta"
   },
   "outputs": [],
   "source": [
    "df_baru = df #backup data"
   ]
  },
  {
   "cell_type": "code",
   "execution_count": 206,
   "metadata": {
    "colab": {
     "base_uri": "https://localhost:8080/",
     "height": 36
    },
    "colab_type": "code",
    "id": "6EK5WocZPJIs",
    "outputId": "fdc2f239-3408-46dd-979c-79bb1963a715"
   },
   "outputs": [
    {
     "data": {
      "text/plain": [
       "Index(['category', 'text'], dtype='object')"
      ]
     },
     "execution_count": 206,
     "metadata": {
      "tags": []
     },
     "output_type": "execute_result"
    }
   ],
   "source": [
    "df_baru.columns"
   ]
  },
  {
   "cell_type": "code",
   "execution_count": 207,
   "metadata": {
    "colab": {},
    "colab_type": "code",
    "id": "xFcR4OYEQpSO"
   },
   "outputs": [],
   "source": [
    "desc = df_baru['text']\n",
    "label = df_baru['category']"
   ]
  },
  {
   "cell_type": "code",
   "execution_count": 208,
   "metadata": {
    "colab": {},
    "colab_type": "code",
    "id": "vj35B8SOxuBM"
   },
   "outputs": [],
   "source": [
    "from tensorflow.keras.utils import to_categorical\n",
    "from sklearn.preprocessing import LabelEncoder"
   ]
  },
  {
   "cell_type": "code",
   "execution_count": 209,
   "metadata": {
    "colab": {},
    "colab_type": "code",
    "id": "zmqP_ZVjRd66"
   },
   "outputs": [],
   "source": [
    "from sklearn.model_selection import train_test_split\n",
    "head_train, head_test, label_train, label_test = train_test_split(desc, label, test_size=0.2,random_state=0)"
   ]
  },
  {
   "cell_type": "code",
   "execution_count": 210,
   "metadata": {
    "colab": {},
    "colab_type": "code",
    "id": "UANrWLm20Siz"
   },
   "outputs": [],
   "source": [
    "#mengubah data categorical kedalam bentuk angka\n",
    "encoder = LabelEncoder()\n",
    "y_train = encoder.fit_transform(label_train)\n",
    "y_test = encoder.transform(label_test)\n"
   ]
  },
  {
   "cell_type": "code",
   "execution_count": 211,
   "metadata": {
    "colab": {},
    "colab_type": "code",
    "id": "UStv42pt5nt7"
   },
   "outputs": [],
   "source": [
    "num_classes = np.max(y_train) + 1 #mencari tahu banyaknya category"
   ]
  },
  {
   "cell_type": "code",
   "execution_count": 212,
   "metadata": {
    "colab": {},
    "colab_type": "code",
    "id": "B3prlu9fyspN"
   },
   "outputs": [],
   "source": [
    "label_train = to_categorical(y_train, num_classes)\n",
    "label_test = to_categorical(y_test, num_classes)"
   ]
  },
  {
   "cell_type": "code",
   "execution_count": 213,
   "metadata": {
    "colab": {},
    "colab_type": "code",
    "id": "PQ4bipK2Webm"
   },
   "outputs": [],
   "source": [
    "#hyperparameter untuk tokenisasi\n",
    "max_length = 200\n",
    "trunc_type = 'post'\n",
    "padding_type = 'post'"
   ]
  },
  {
   "cell_type": "code",
   "execution_count": 214,
   "metadata": {
    "colab": {},
    "colab_type": "code",
    "id": "mpJiNEbTR4Pn"
   },
   "outputs": [],
   "source": [
    "from tensorflow.keras.preprocessing.text import Tokenizer\n",
    "from tensorflow.keras.preprocessing.sequence import pad_sequences\n",
    "\n",
    "tokenizer = Tokenizer(num_words=2000, oov_token='-', lower=True)\n",
    "tokenizer.fit_on_texts(head_train)\n",
    "tokenizer.fit_on_texts(head_test)\n",
    "\n",
    "seq_train = tokenizer.texts_to_sequences(head_train)\n",
    "seq_test = tokenizer.texts_to_sequences(head_test)\n",
    "\n",
    "padded_train = pad_sequences(seq_train,maxlen=max_length, padding=padding_type, truncating=trunc_type)\n",
    "padded_test = pad_sequences(seq_test,maxlen=max_length, padding=padding_type, truncating=trunc_type)"
   ]
  },
  {
   "cell_type": "code",
   "execution_count": 215,
   "metadata": {
    "colab": {
     "base_uri": "https://localhost:8080/",
     "height": 36
    },
    "colab_type": "code",
    "id": "Pxw7gUNRq_RC",
    "outputId": "427bf79b-a0a9-427f-ccbc-3502b44930b1"
   },
   "outputs": [
    {
     "data": {
      "text/plain": [
       "29728"
      ]
     },
     "execution_count": 215,
     "metadata": {
      "tags": []
     },
     "output_type": "execute_result"
    }
   ],
   "source": [
    "size = len(tokenizer.word_index) + 1\n",
    "size"
   ]
  },
  {
   "cell_type": "code",
   "execution_count": 216,
   "metadata": {
    "colab": {},
    "colab_type": "code",
    "id": "VanDUI7ToUDQ"
   },
   "outputs": [],
   "source": [
    "#!wget http://nlp.stanford.edu/data/glove.6B.zip\n",
    "#!unzip -q glove.6B.zip"
   ]
  },
  {
   "cell_type": "code",
   "execution_count": 217,
   "metadata": {
    "colab": {
     "base_uri": "https://localhost:8080/",
     "height": 36
    },
    "colab_type": "code",
    "id": "FJW9hcgon9PZ",
    "outputId": "23e4cd51-92ed-4554-c382-2cbc7ba2ca18"
   },
   "outputs": [
    {
     "name": "stdout",
     "output_type": "stream",
     "text": [
      "Loaded 400000 word vectors.\n"
     ]
    }
   ],
   "source": [
    "embeddings_index = dict()\n",
    "f = open('/content/drive/My Drive/glove.6B.100d.txt')\n",
    "for line in f:\n",
    "    values = line.split()\n",
    "    word = values[0]\n",
    "    coefs = np.asarray(values[1:], dtype='float32')\n",
    "    embeddings_index[word] = coefs\n",
    "f.close()\n",
    "print('Loaded %s word vectors.' % len(embeddings_index))"
   ]
  },
  {
   "cell_type": "code",
   "execution_count": 218,
   "metadata": {
    "colab": {},
    "colab_type": "code",
    "id": "2Msn2QDQpHOS"
   },
   "outputs": [],
   "source": [
    "embedding_matrix = np.zeros((size, 100))\n",
    "\n",
    "# mengisi nilai embedded_matrix\n",
    "for word, i in tokenizer.word_index.items():  # dictionary\n",
    "    embedding_vector = embeddings_index.get(word) # mendapatkan embedded vector dari pretrained model Glove\n",
    "    if embedding_vector is not None:\n",
    "        # menambahkan ke matrix embedding\n",
    "        embedding_matrix[i] = embedding_vector # ditambahkan ke setiap row"
   ]
  },
  {
   "cell_type": "code",
   "execution_count": 219,
   "metadata": {
    "colab": {
     "base_uri": "https://localhost:8080/",
     "height": 427
    },
    "colab_type": "code",
    "id": "Ij414rV3R6iq",
    "outputId": "f4879046-9445-458c-9866-7bba95dda387"
   },
   "outputs": [
    {
     "name": "stdout",
     "output_type": "stream",
     "text": [
      "Model: \"sequential_26\"\n",
      "_________________________________________________________________\n",
      "Layer (type)                 Output Shape              Param #   \n",
      "=================================================================\n",
      "embedding_28 (Embedding)     (None, 30, 100)           2972800   \n",
      "_________________________________________________________________\n",
      "lstm_26 (LSTM)               (None, 512)               1255424   \n",
      "_________________________________________________________________\n",
      "dense_71 (Dense)             (None, 512)               262656    \n",
      "_________________________________________________________________\n",
      "dropout_45 (Dropout)         (None, 512)               0         \n",
      "_________________________________________________________________\n",
      "dense_72 (Dense)             (None, 256)               131328    \n",
      "_________________________________________________________________\n",
      "dropout_46 (Dropout)         (None, 256)               0         \n",
      "_________________________________________________________________\n",
      "dense_73 (Dense)             (None, 5)                 1285      \n",
      "=================================================================\n",
      "Total params: 4,623,493\n",
      "Trainable params: 1,650,693\n",
      "Non-trainable params: 2,972,800\n",
      "_________________________________________________________________\n"
     ]
    }
   ],
   "source": [
    "import tensorflow as tf\n",
    "model = tf.keras.Sequential([\n",
    "                             tf.keras.layers.Embedding(input_dim=29728, output_dim=100, input_length=30 , weights=[embedding_matrix], trainable=False),\n",
    "                             tf.keras.layers.LSTM(512),\n",
    "                             tf.keras.layers.Dense(512, activation='relu'),\n",
    "                             tf.keras.layers.Dropout(0.3),\n",
    "                             tf.keras.layers.Dense(256, activation='relu'),\n",
    "                             tf.keras.layers.Dropout(0.3),\n",
    "                             tf.keras.layers.Dense(num_classes, activation='softmax')\n",
    "\n",
    "              \n",
    "])\n",
    "\n",
    "\n",
    "model.compile(\n",
    "    loss='categorical_crossentropy',\n",
    "    optimizer='adam',\n",
    "    metrics=['accuracy'],\n",
    ")\n",
    "model.summary()"
   ]
  },
  {
   "cell_type": "code",
   "execution_count": 220,
   "metadata": {
    "colab": {
     "base_uri": "https://localhost:8080/",
     "height": 1000
    },
    "colab_type": "code",
    "id": "8yE-8IcCR6bg",
    "outputId": "0fb8e4fa-bc2b-4ac1-859b-2fed8bf527fe"
   },
   "outputs": [
    {
     "name": "stdout",
     "output_type": "stream",
     "text": [
      "Epoch 1/50\n",
      "WARNING:tensorflow:Model was constructed with shape (None, 30) for input Tensor(\"embedding_28_input:0\", shape=(None, 30), dtype=float32), but it was called on an input with incompatible shape (None, 200).\n",
      "WARNING:tensorflow:Model was constructed with shape (None, 30) for input Tensor(\"embedding_28_input:0\", shape=(None, 30), dtype=float32), but it was called on an input with incompatible shape (None, 200).\n",
      "29/29 [==============================] - ETA: 0s - loss: 1.4626 - accuracy: 0.3806WARNING:tensorflow:Model was constructed with shape (None, 30) for input Tensor(\"embedding_28_input:0\", shape=(None, 30), dtype=float32), but it was called on an input with incompatible shape (None, 200).\n",
      "29/29 [==============================] - 4s 135ms/step - loss: 1.4626 - accuracy: 0.3806 - val_loss: 1.6424 - val_accuracy: 0.3202\n",
      "Epoch 2/50\n",
      "29/29 [==============================] - 3s 113ms/step - loss: 1.3187 - accuracy: 0.4775 - val_loss: 1.1367 - val_accuracy: 0.4972\n",
      "Epoch 3/50\n",
      "29/29 [==============================] - 3s 113ms/step - loss: 1.0551 - accuracy: 0.5695 - val_loss: 1.0472 - val_accuracy: 0.6096\n",
      "Epoch 4/50\n",
      "29/29 [==============================] - 3s 114ms/step - loss: 0.9093 - accuracy: 0.6615 - val_loss: 0.7599 - val_accuracy: 0.7388\n",
      "Epoch 5/50\n",
      "29/29 [==============================] - 3s 114ms/step - loss: 0.8717 - accuracy: 0.6861 - val_loss: 0.8798 - val_accuracy: 0.6938\n",
      "Epoch 6/50\n",
      "29/29 [==============================] - 3s 114ms/step - loss: 0.9005 - accuracy: 0.6917 - val_loss: 0.8406 - val_accuracy: 0.7472\n",
      "Epoch 7/50\n",
      "29/29 [==============================] - 3s 113ms/step - loss: 0.8125 - accuracy: 0.6994 - val_loss: 0.8173 - val_accuracy: 0.7416\n",
      "Epoch 8/50\n",
      "29/29 [==============================] - 3s 113ms/step - loss: 0.5882 - accuracy: 0.7837 - val_loss: 0.5411 - val_accuracy: 0.8567\n",
      "Epoch 9/50\n",
      "29/29 [==============================] - 3s 114ms/step - loss: 0.4574 - accuracy: 0.8729 - val_loss: 0.4833 - val_accuracy: 0.8596\n",
      "Epoch 10/50\n",
      "29/29 [==============================] - 3s 113ms/step - loss: 0.6051 - accuracy: 0.8272 - val_loss: 1.0291 - val_accuracy: 0.6348\n",
      "Epoch 11/50\n",
      "29/29 [==============================] - 3s 113ms/step - loss: 0.7299 - accuracy: 0.7570 - val_loss: 2.3559 - val_accuracy: 0.4129\n",
      "Epoch 12/50\n",
      "29/29 [==============================] - 3s 113ms/step - loss: 1.7141 - accuracy: 0.3027 - val_loss: 1.4676 - val_accuracy: 0.3624\n",
      "Epoch 13/50\n",
      "29/29 [==============================] - 3s 114ms/step - loss: 1.6108 - accuracy: 0.2711 - val_loss: 1.5913 - val_accuracy: 0.2584\n",
      "Epoch 14/50\n",
      "29/29 [==============================] - 3s 113ms/step - loss: 1.5516 - accuracy: 0.2985 - val_loss: 1.5004 - val_accuracy: 0.3933\n",
      "Epoch 15/50\n",
      "29/29 [==============================] - 3s 113ms/step - loss: 1.2681 - accuracy: 0.4768 - val_loss: 1.1147 - val_accuracy: 0.5028\n",
      "Epoch 16/50\n",
      "29/29 [==============================] - 3s 113ms/step - loss: 0.8412 - accuracy: 0.6861 - val_loss: 0.6962 - val_accuracy: 0.7528\n",
      "Epoch 17/50\n",
      "29/29 [==============================] - 3s 113ms/step - loss: 0.5603 - accuracy: 0.8258 - val_loss: 0.4671 - val_accuracy: 0.8427\n",
      "Epoch 18/50\n",
      "29/29 [==============================] - 3s 113ms/step - loss: 0.3620 - accuracy: 0.8869 - val_loss: 0.3771 - val_accuracy: 0.8848\n",
      "Epoch 19/50\n",
      "29/29 [==============================] - 3s 113ms/step - loss: 0.2908 - accuracy: 0.9192 - val_loss: 0.2597 - val_accuracy: 0.9185\n",
      "Epoch 20/50\n",
      "29/29 [==============================] - 3s 113ms/step - loss: 0.2870 - accuracy: 0.9199 - val_loss: 0.3205 - val_accuracy: 0.8989\n",
      "Epoch 21/50\n",
      "29/29 [==============================] - 3s 113ms/step - loss: 0.2543 - accuracy: 0.9242 - val_loss: 0.2806 - val_accuracy: 0.8904\n",
      "Epoch 22/50\n",
      "29/29 [==============================] - 3s 113ms/step - loss: 0.1784 - accuracy: 0.9522 - val_loss: 0.1873 - val_accuracy: 0.9326\n",
      "Epoch 23/50\n",
      "29/29 [==============================] - 3s 113ms/step - loss: 0.1333 - accuracy: 0.9614 - val_loss: 0.1989 - val_accuracy: 0.9438\n",
      "Epoch 24/50\n",
      "29/29 [==============================] - 3s 113ms/step - loss: 0.1393 - accuracy: 0.9600 - val_loss: 0.1752 - val_accuracy: 0.9466\n",
      "Epoch 25/50\n",
      "29/29 [==============================] - 3s 113ms/step - loss: 0.1057 - accuracy: 0.9747 - val_loss: 0.2385 - val_accuracy: 0.9354\n",
      "Epoch 26/50\n",
      "29/29 [==============================] - 3s 113ms/step - loss: 0.2422 - accuracy: 0.9291 - val_loss: 0.1495 - val_accuracy: 0.9551\n",
      "Epoch 27/50\n",
      "29/29 [==============================] - 3s 114ms/step - loss: 0.1226 - accuracy: 0.9656 - val_loss: 0.1969 - val_accuracy: 0.9298\n",
      "Epoch 28/50\n",
      "29/29 [==============================] - 3s 114ms/step - loss: 0.0843 - accuracy: 0.9761 - val_loss: 0.1582 - val_accuracy: 0.9551\n",
      "Epoch 29/50\n",
      "29/29 [==============================] - 3s 113ms/step - loss: 0.0994 - accuracy: 0.9698 - val_loss: 0.1442 - val_accuracy: 0.9607\n",
      "Epoch 30/50\n",
      "29/29 [==============================] - 3s 113ms/step - loss: 0.0732 - accuracy: 0.9796 - val_loss: 0.1788 - val_accuracy: 0.9522\n",
      "Epoch 31/50\n",
      "29/29 [==============================] - 3s 113ms/step - loss: 0.0810 - accuracy: 0.9747 - val_loss: 0.1610 - val_accuracy: 0.9663\n",
      "Epoch 32/50\n",
      "29/29 [==============================] - 3s 113ms/step - loss: 0.0942 - accuracy: 0.9691 - val_loss: 0.1977 - val_accuracy: 0.9438\n",
      "Epoch 33/50\n",
      "29/29 [==============================] - 3s 113ms/step - loss: 0.0585 - accuracy: 0.9810 - val_loss: 0.1593 - val_accuracy: 0.9607\n",
      "Epoch 34/50\n",
      "29/29 [==============================] - 3s 113ms/step - loss: 0.0433 - accuracy: 0.9860 - val_loss: 0.2391 - val_accuracy: 0.9410\n",
      "Epoch 35/50\n",
      "29/29 [==============================] - 3s 113ms/step - loss: 0.0689 - accuracy: 0.9796 - val_loss: 0.1818 - val_accuracy: 0.9466\n",
      "Epoch 36/50\n",
      "29/29 [==============================] - 3s 113ms/step - loss: 0.0528 - accuracy: 0.9838 - val_loss: 0.1843 - val_accuracy: 0.9607\n",
      "Epoch 37/50\n",
      "29/29 [==============================] - 3s 114ms/step - loss: 0.0386 - accuracy: 0.9867 - val_loss: 0.1608 - val_accuracy: 0.9635\n",
      "Epoch 38/50\n",
      "29/29 [==============================] - 3s 113ms/step - loss: 0.0519 - accuracy: 0.9838 - val_loss: 0.1884 - val_accuracy: 0.9551\n",
      "Epoch 39/50\n",
      "29/29 [==============================] - 3s 114ms/step - loss: 0.0477 - accuracy: 0.9817 - val_loss: 0.1894 - val_accuracy: 0.9551\n",
      "Epoch 40/50\n",
      "29/29 [==============================] - 3s 113ms/step - loss: 0.0335 - accuracy: 0.9902 - val_loss: 0.1733 - val_accuracy: 0.9579\n",
      "Epoch 41/50\n",
      "29/29 [==============================] - 3s 114ms/step - loss: 0.0205 - accuracy: 0.9944 - val_loss: 0.1943 - val_accuracy: 0.9635\n",
      "Epoch 42/50\n",
      "29/29 [==============================] - 3s 113ms/step - loss: 0.0169 - accuracy: 0.9951 - val_loss: 0.2325 - val_accuracy: 0.9522\n",
      "Epoch 43/50\n",
      "29/29 [==============================] - 3s 113ms/step - loss: 0.0154 - accuracy: 0.9965 - val_loss: 0.1998 - val_accuracy: 0.9522\n",
      "Epoch 44/50\n",
      "29/29 [==============================] - 3s 113ms/step - loss: 0.0185 - accuracy: 0.9944 - val_loss: 0.2544 - val_accuracy: 0.9438\n",
      "Epoch 45/50\n",
      "29/29 [==============================] - 3s 113ms/step - loss: 0.0131 - accuracy: 0.9972 - val_loss: 0.2059 - val_accuracy: 0.9607\n",
      "Epoch 46/50\n",
      "29/29 [==============================] - 3s 114ms/step - loss: 0.0061 - accuracy: 0.9986 - val_loss: 0.2266 - val_accuracy: 0.9607\n",
      "Epoch 47/50\n",
      "29/29 [==============================] - 3s 114ms/step - loss: 0.0038 - accuracy: 0.9986 - val_loss: 0.2337 - val_accuracy: 0.9635\n",
      "Epoch 48/50\n",
      "29/29 [==============================] - 3s 114ms/step - loss: 0.0043 - accuracy: 0.9993 - val_loss: 0.2454 - val_accuracy: 0.9635\n",
      "Epoch 49/50\n",
      "29/29 [==============================] - 3s 114ms/step - loss: 0.0042 - accuracy: 0.9986 - val_loss: 0.2507 - val_accuracy: 0.9607\n",
      "Epoch 50/50\n",
      "29/29 [==============================] - 3s 113ms/step - loss: 0.0028 - accuracy: 0.9993 - val_loss: 0.2658 - val_accuracy: 0.9607\n"
     ]
    }
   ],
   "source": [
    "num_epochs = 50\n",
    "history = model.fit(\n",
    "    padded_train, label_train,\n",
    "    validation_split = 0.2,\n",
    "    epochs=num_epochs, batch_size=50)"
   ]
  },
  {
   "cell_type": "code",
   "execution_count": 221,
   "metadata": {
    "colab": {
     "base_uri": "https://localhost:8080/",
     "height": 295
    },
    "colab_type": "code",
    "id": "sOs008b4R6U2",
    "outputId": "6f558b06-c751-41bd-9796-c31c8aef8f85"
   },
   "outputs": [
    {
     "data": {
      "image/png": "[encoded data removed]",
      "text/plain": [
       "<Figure size 432x288 with 1 Axes>"
      ]
     },
     "metadata": {
      "needs_background": "light",
      "tags": []
     },
     "output_type": "display_data"
    }
   ],
   "source": [
    "import matplotlib.pyplot as plt\n",
    "plt.plot(history.history['accuracy'])\n",
    "plt.plot(history.history['val_accuracy'])\n",
    "plt.title('Akurasi Model')\n",
    "plt.ylabel('accuracy')\n",
    "plt.xlabel('epoch')\n",
    "plt.legend(['train', 'test'], loc='upper left')\n",
    "plt.show()"
   ]
  },
  {
   "cell_type": "code",
   "execution_count": 222,
   "metadata": {
    "colab": {
     "base_uri": "https://localhost:8080/",
     "height": 295
    },
    "colab_type": "code",
    "id": "LOCLMwv3R6Qs",
    "outputId": "30088e7d-0ae2-4bda-aec9-ae827d1b76f2"
   },
   "outputs": [
    {
     "data": {
      "image/png": "[encoded data removed]",
      "text/plain": [
       "<Figure size 432x288 with 1 Axes>"
      ]
     },
     "metadata": {
      "needs_background": "light",
      "tags": []
     },
     "output_type": "display_data"
    }
   ],
   "source": [
    "plt.plot(history.history['loss'])\n",
    "plt.plot(history.history['val_loss'])\n",
    "plt.title('Loss Model')\n",
    "plt.ylabel('loss')\n",
    "plt.xlabel('epoch')\n",
    "plt.legend(['train', 'test'], loc='upper left')\n",
    "plt.show()"
   ]
  },
  {
   "cell_type": "code",
   "execution_count": 222,
   "metadata": {
    "colab": {},
    "colab_type": "code",
    "id": "2Bv0yyPBR6Lm"
   },
   "outputs": [],
   "source": []
  },
  {
   "cell_type": "code",
   "execution_count": 222,
   "metadata": {
    "colab": {},
    "colab_type": "code",
    "id": "l3-LeklpR6EM"
   },
   "outputs": [],
   "source": []
  },
  {
   "cell_type": "code",
   "execution_count": 222,
   "metadata": {
    "colab": {},
    "colab_type": "code",
    "id": "QT-mmkeKR581"
   },
   "outputs": [],
   "source": []
  },
  {
   "cell_type": "code",
   "execution_count": 222,
   "metadata": {
    "colab": {},
    "colab_type": "code",
    "id": "ofBIWn9IR52o"
   },
   "outputs": [],
   "source": []
  },
  {
   "cell_type": "code",
   "execution_count": 222,
   "metadata": {
    "colab": {},
    "colab_type": "code",
    "id": "gMh2i1dMR5xe"
   },
   "outputs": [],
   "source": []
  },
  {
   "cell_type": "code",
   "execution_count": 222,
   "metadata": {
    "colab": {},
    "colab_type": "code",
    "id": "q74cVjSlR5sV"
   },
   "outputs": [],
   "source": []
  },
  {
   "cell_type": "code",
   "execution_count": 222,
   "metadata": {
    "colab": {},
    "colab_type": "code",
    "id": "baa27nTJR5l8"
   },
   "outputs": [],
   "source": []
  }
 ],
 "metadata": {
  "accelerator": "GPU",
  "colab": {
   "name": "Submission 1.ipynb",
   "provenance": []
  },
  "kernelspec": {
   "display_name": "Python 3",
   "language": "python",
   "name": "python3"
  },
  "language_info": {
   "codemirror_mode": {
    "name": "ipython",
    "version": 3
   },
   "file_extension": ".py",
   "mimetype": "text/x-python",
   "name": "python",
   "nbconvert_exporter": "python",
   "pygments_lexer": "ipython3",
   "version": "3.8.3"
  }
 },
 "nbformat": 4,
 "nbformat_minor": 1
}
